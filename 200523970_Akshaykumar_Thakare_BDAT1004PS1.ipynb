{
 "cells": [
  {
   "cell_type": "markdown",
   "id": "dd1354cc",
   "metadata": {},
   "source": [
    "# Data Programming- Problem Set 1 #"
   ]
  },
  {
   "cell_type": "markdown",
   "id": "d33c24fa",
   "metadata": {},
   "source": [
    "### Ans 1 # "
   ]
  },
  {
   "cell_type": "code",
   "execution_count": 1,
   "id": "44d41022",
   "metadata": {},
   "outputs": [
    {
     "name": "stdout",
     "output_type": "stream",
     "text": [
      "<class 'int'>\n",
      "<class 'float'>\n",
      "<class 'bool'>\n",
      "<class 'str'>\n",
      "<class 'int'>\n",
      "<class 'str'>\n",
      "<class 'str'>\n",
      "<class 'float'>\n",
      "<class 'int'>\n",
      "<class 'set'>\n",
      "<class 'bool'>\n",
      "3.141592653589793\n"
     ]
    }
   ],
   "source": [
    "\n",
    "import math #importing libarries\n",
    "print(type(5))\n",
    "print(type(5.0))\n",
    "print(type(5 > 1))\n",
    "print(type('5'))\n",
    "print(type(5 * 2))\n",
    "print(type('5' * 2))\n",
    "print(type('5' + '2'))\n",
    "print(type(5 / 2))\n",
    "print(type(5 % 2))\n",
    "print(type({5, 2, 1}))\n",
    "print(type(5 == 3))\n",
    "print(math.pi) #printing data types in order"
   ]
  },
  {
   "cell_type": "markdown",
   "id": "ee9dc16c",
   "metadata": {},
   "source": [
    "### Ans 2 #"
   ]
  },
  {
   "cell_type": "code",
   "execution_count": 3,
   "id": "d10b51a2",
   "metadata": {},
   "outputs": [
    {
     "name": "stdout",
     "output_type": "stream",
     "text": [
      "a) There are 34 letters in Supercalifragilisticexpialidocious\n",
      "b) Yes, ice is substring\n",
      "c) String 1 is the largest\n",
      "d) Bartokis first in the list\n"
     ]
    }
   ],
   "source": [
    "str1 = \"Supercalifragilisticexpialidocious\" # assingning value to string 1\n",
    "str2 = \"Honorificabilitudinitatibus\" # assingning value to string 2\n",
    "str3 = \"Bababadalgharaghtakamminarronnkonn\"  # assingning value to string 2\n",
    "len1 = len(str1) \n",
    "len2 = len(str2)  # Assigning lenght of string 1 to 3\n",
    "len3 = len(str3)\n",
    "print(\"a) There are\",len1, \"letters in Supercalifragilisticexpialidocious\") #printing length of string 1\n",
    "if 'ice' in str1:\n",
    "    print(\"b) Yes, ice is substring\")\n",
    "else:\n",
    "    print(\"b)No, ice is not a substring\")\n",
    "if len1 >= len2:\n",
    "    if len1 >= len3:\n",
    "        print(\"c) String 1 is the largest\")\n",
    "elif len2 >= len1:\n",
    "    if len2 >= len3:\n",
    "        print(\"c) String 2 is the largest\")\n",
    "else:\n",
    "    print(\"c) String 3 is the largest\")\n",
    "composer = ['Berlioz', 'Borodin', 'Brian','Bartok', 'Bellini', 'Buxtehude', 'Bernstein']\n",
    "composer.sort() #Sorting values of composer in alphabetical order\n",
    "print(\"d)\",composer[0] + \"is first in the list\")"
   ]
  },
  {
   "cell_type": "markdown",
   "id": "499c4177",
   "metadata": {},
   "source": [
    "### Ans 3 # "
   ]
  },
  {
   "cell_type": "code",
   "execution_count": 4,
   "id": "e527ff02",
   "metadata": {},
   "outputs": [
    {
     "name": "stdout",
     "output_type": "stream",
     "text": [
      "Area of triangle is 1.7320508075688772\n"
     ]
    }
   ],
   "source": [
    "import math #importing library\n",
    "def triangleArea(a,b,c): #Defing variables\n",
    "    s = (a+b+c)/2\n",
    "    area = math.sqrt(s*(s-a)*(s-b)*(s-c))\n",
    "    return area\n",
    "areaoftriangle = triangleArea(2,2,2)\n",
    "print(\"Area of triangle is\",str(areaoftriangle)) #printing value "
   ]
  },
  {
   "cell_type": "markdown",
   "id": "0fb180f7",
   "metadata": {},
   "source": [
    "### Ans 4 # "
   ]
  },
  {
   "cell_type": "code",
   "execution_count": 5,
   "id": "6c519592",
   "metadata": {},
   "outputs": [
    {
     "name": "stdout",
     "output_type": "stream",
     "text": [
      "Enter the number of elements to be put in array: 5\n",
      "Enter the element number 0: 1\n",
      "Enter the element number 1: 2\n",
      "Enter the element number 2: 3\n",
      "Enter the element number 3: 4\n",
      "Enter the element number 4: 5\n",
      "The even elements are: \n",
      "[2, 4]\n",
      "The odd elements are: \n",
      "[1, 3, 5]\n"
     ]
    }
   ],
   "source": [
    "arr_len = int(input(\"Enter the number of elements to be put in array: \")) #Accepting values from user\n",
    "array = []\n",
    "for x in range(arr_len): #Using loop to load values\n",
    "    array.append(int(input(\"Enter the element number \"+str(x)+\": \")))\n",
    "\n",
    "even_array = []\n",
    "odd_array = []\n",
    "for x in range(arr_len):\n",
    "    if array[x]%2 == 1:\n",
    "        odd_array.append(array[x])\n",
    "    if array[x]%2 == 0:\n",
    "        even_array.append(array[x])\n",
    "        \n",
    "print(\"The even elements are: \")\n",
    "print(even_array)\n",
    "print(\"The odd elements are: \")\n",
    "print(odd_array)"
   ]
  },
  {
   "cell_type": "markdown",
   "id": "76be46fe",
   "metadata": {},
   "source": [
    "### Ans 5 # "
   ]
  },
  {
   "cell_type": "code",
   "execution_count": 6,
   "id": "3cd3bea4",
   "metadata": {},
   "outputs": [
    {
     "name": "stdout",
     "output_type": "stream",
     "text": [
      "Enter the first point: 1\n",
      "Enter the second point: 2\n",
      "True\n",
      "False\n",
      "True\n"
     ]
    }
   ],
   "source": [
    "def inside(x,y,x1,y1,x2,y2): #Defining function\n",
    "    if (x > x1 and x < x2) and (y > y1 and y < y2):\n",
    "        print(\"True\")\n",
    "    else:\n",
    "        print(\"False\")\n",
    " \n",
    "x = int(input(\"Enter the first point: \"))\n",
    "y = int(input(\"Enter the second point: \"))\n",
    "inside(x,y,0,0,2,3)\n",
    "inside(1,1,0.3,0.5,1.1,0.7)\n",
    "inside(1,1,0.5,0.2,1.1,2)"
   ]
  },
  {
   "cell_type": "markdown",
   "id": "0b151324",
   "metadata": {},
   "source": [
    "### Ans 6 # "
   ]
  },
  {
   "cell_type": "code",
   "execution_count": 7,
   "id": "82c2578f",
   "metadata": {},
   "outputs": [
    {
     "name": "stdout",
     "output_type": "stream",
     "text": [
      "Enter the word: Akshay\n",
      "kshayAay\n"
     ]
    }
   ],
   "source": [
    "def pig(word): #Defining function\n",
    "    lengthofword = len(word)\n",
    "    array = []\n",
    "    for x in range(lengthofword):\n",
    "        array.append(word[x])\n",
    "    if array[0] != 'a':\n",
    "        if array[0] != 'e':\n",
    "            if array[0] != 'i':\n",
    "                if array[0] != 'o':\n",
    "                    if array[0] != 'u':\n",
    "                        flag = array[0]\n",
    "                        array.remove(array[0])\n",
    "                        array.append(flag)\n",
    "                        array.append('a')\n",
    "                        array.append('y')\n",
    "                    else:\n",
    "                        array.append('w')\n",
    "                        array.append('a')\n",
    "                        array.append('y')\n",
    "                else:\n",
    "                    array.append('w')\n",
    "                    array.append('a')\n",
    "                    array.append('y')\n",
    "            else:\n",
    "                array.append('w')\n",
    "                array.append('a')\n",
    "                array.append('y')\n",
    "        else:\n",
    "            array.append('w')\n",
    "            array.append('a')\n",
    "            array.append('y')\n",
    "    else:\n",
    "        array.append('w')\n",
    "        array.append('a')\n",
    "        array.append('y')\n",
    "    finalstring = \"\"\n",
    "    for x in array:\n",
    "        finalstring += x\n",
    "    return finalstring\n",
    "word = str(input(\"Enter the word: \"))\n",
    "finalword = pig(word)\n",
    "print(finalword)\n"
   ]
  },
  {
   "cell_type": "markdown",
   "id": "57b05ca0",
   "metadata": {},
   "source": [
    "### Ans 7 # "
   ]
  },
  {
   "cell_type": "code",
   "execution_count": 8,
   "id": "b67f40e4",
   "metadata": {},
   "outputs": [
    {
     "name": "stdout",
     "output_type": "stream",
     "text": [
      "There are 15 patients with blood group A\n",
      "There are 1 patients with blood group B\n",
      "There are 13 patients with blood group AB\n",
      "There are 15 patients with blood group O\n",
      "There are 0 patients with blood group OO\n"
     ]
    }
   ],
   "source": [
    "\n",
    "file = open(\"Bloodtype.txt\", \"r\") ##Opening given text file\n",
    "list = file.readlines() #Reading file\n",
    "for i in list:\n",
    "    content = i.split() #Splinting lines inside the loop\n",
    "blA = content.count('A')\n",
    "blB = content.count('B')\n",
    "blAB = content.count('AB')\n",
    "blO = content.count('O')\n",
    "blOO = content.count('OO')\n",
    "print(\"There are\" ,blA, \"patients with blood group A\")\n",
    "print(\"There are\" ,blB, \"patients with blood group B\")\n",
    "print(\"There are\" ,blAB, \"patients with blood group AB\")\n",
    "print(\"There are\" ,blO, \"patients with blood group O\")\n",
    "print(\"There are\" ,blOO, \"patients with blood group OO\")"
   ]
  },
  {
   "cell_type": "markdown",
   "id": "c799858a",
   "metadata": {},
   "source": [
    "### Ans 8 # "
   ]
  },
  {
   "cell_type": "code",
   "execution_count": 9,
   "id": "d804c62e",
   "metadata": {},
   "outputs": [
    {
     "name": "stdout",
     "output_type": "stream",
     "text": [
      "Enter the currency code: INR\n",
      "Enter the amount: 2000\n",
      "2000.0 INR is equal to 35.5286 USD\n"
     ]
    }
   ],
   "source": [
    "def curconv(currency, amount):\n",
    "    # Define approximate exchange rates as a dictionary\n",
    "    exchange_rates = {\n",
    "        'AUD': 1.0345157,\n",
    "        'CHF': 1.0237414,\n",
    "        'CNY': 0.1550176,\n",
    "        'DKK': 0.1651442,\n",
    "        'EUR': 1.2296544,\n",
    "        'GBP': 1.5550989,\n",
    "        'HKD': 0.1270207,\n",
    "        'INR': 0.0177643,\n",
    "        'JPY': 0.01241401,\n",
    "        'MXN': 0.0751848,\n",
    "        'MYR': 0.3145411,\n",
    "        'NOK': 0.1677063,\n",
    "        'NZD': 0.8003591,\n",
    "        'PHP': 0.0233234,\n",
    "        'SEK': 0.148269,\n",
    "        'SGD': 0.788871,\n",
    "        'THB': 0.0313789,\n",
    "    }\n",
    "\n",
    "    if currency in exchange_rates: #Checking currency in dictionary\n",
    "        usd_amt = amount * exchange_rates[currency] #Converitng amount to USD\n",
    "        return usd_amt\n",
    "    else:\n",
    "        return f\"Currency code '{currency}' not found in exchange rate data.\"\n",
    "\n",
    "currency = input(\"Enter the currency code: \") #Getting values from user\n",
    "amount = float(input(\"Enter the amount: \"))\n",
    "\n",
    "result = curconv(currency, amount) #Calling function\n",
    "\n",
    "# Display the result\n",
    "if isinstance(result, str):\n",
    "    print(result)  # Displaying error message\n",
    "else:\n",
    "    print(f\"{amount} {currency} is equal to {result} USD\")\n"
   ]
  },
  {
   "cell_type": "markdown",
   "id": "e59819c9",
   "metadata": {},
   "source": [
    "### Ans 9 # "
   ]
  },
  {
   "cell_type": "markdown",
   "id": "72cd06dd",
   "metadata": {},
   "source": [
    "### 1 #"
   ]
  },
  {
   "cell_type": "code",
   "execution_count": 10,
   "id": "93ca9596",
   "metadata": {},
   "outputs": [
    {
     "ename": "TypeError",
     "evalue": "unsupported operand type(s) for +: 'int' and 'str'",
     "output_type": "error",
     "traceback": [
      "\u001b[1;31m---------------------------------------------------------------------------\u001b[0m",
      "\u001b[1;31mTypeError\u001b[0m                                 Traceback (most recent call last)",
      "Input \u001b[1;32mIn [10]\u001b[0m, in \u001b[0;36m<cell line: 2>\u001b[1;34m()\u001b[0m\n\u001b[0;32m      1\u001b[0m \u001b[38;5;66;03m# Adding incompatible variables\u001b[39;00m\n\u001b[1;32m----> 2\u001b[0m result1 \u001b[38;5;241m=\u001b[39m \u001b[38;5;241;43m6\u001b[39;49m\u001b[43m \u001b[49m\u001b[38;5;241;43m+\u001b[39;49m\u001b[38;5;124;43m'\u001b[39;49m\u001b[38;5;124;43ma\u001b[39;49m\u001b[38;5;124;43m'\u001b[39;49m  \u001b[38;5;66;03m# Raises a TypeError\u001b[39;00m\n\u001b[0;32m      4\u001b[0m \u001b[38;5;28mprint\u001b[39m(\u001b[38;5;124m\"\u001b[39m\u001b[38;5;124mResult 1:\u001b[39m\u001b[38;5;124m\"\u001b[39m, result1)\n",
      "\u001b[1;31mTypeError\u001b[0m: unsupported operand type(s) for +: 'int' and 'str'"
     ]
    }
   ],
   "source": [
    "# Adding incompatible variables\n",
    "result1 = 6 +'a'  # Raises a TypeError\n",
    "\n",
    "print(\"Result 1:\", result1)\n"
   ]
  },
  {
   "cell_type": "markdown",
   "id": "671d85a2",
   "metadata": {},
   "source": [
    "### 2 #  "
   ]
  },
  {
   "cell_type": "code",
   "execution_count": 11,
   "id": "90b8ecdb",
   "metadata": {},
   "outputs": [
    {
     "ename": "IndexError",
     "evalue": "list index out of range",
     "output_type": "error",
     "traceback": [
      "\u001b[1;31m---------------------------------------------------------------------------\u001b[0m",
      "\u001b[1;31mIndexError\u001b[0m                                Traceback (most recent call last)",
      "Input \u001b[1;32mIn [11]\u001b[0m, in \u001b[0;36m<cell line: 3>\u001b[1;34m()\u001b[0m\n\u001b[0;32m      1\u001b[0m \u001b[38;5;66;03m# Referring to the 12th item of a list with only 10 items\u001b[39;00m\n\u001b[0;32m      2\u001b[0m my_list \u001b[38;5;241m=\u001b[39m [\u001b[38;5;241m1\u001b[39m, \u001b[38;5;241m2\u001b[39m, \u001b[38;5;241m3\u001b[39m, \u001b[38;5;241m4\u001b[39m, \u001b[38;5;241m5\u001b[39m, \u001b[38;5;241m6\u001b[39m, \u001b[38;5;241m7\u001b[39m, \u001b[38;5;241m8\u001b[39m, \u001b[38;5;241m9\u001b[39m, \u001b[38;5;241m10\u001b[39m]\n\u001b[1;32m----> 3\u001b[0m item12 \u001b[38;5;241m=\u001b[39m \u001b[43mmy_list\u001b[49m\u001b[43m[\u001b[49m\u001b[38;5;241;43m11\u001b[39;49m\u001b[43m]\u001b[49m  \u001b[38;5;66;03m# Raises an IndexError\u001b[39;00m\n\u001b[0;32m      5\u001b[0m \u001b[38;5;28mprint\u001b[39m(\u001b[38;5;124m\"\u001b[39m\u001b[38;5;124mItem 12:\u001b[39m\u001b[38;5;124m\"\u001b[39m, item12)\n",
      "\u001b[1;31mIndexError\u001b[0m: list index out of range"
     ]
    }
   ],
   "source": [
    "# Referring to the 12th item of a list with only 10 items\n",
    "my_list = [1, 2, 3, 4, 5, 6, 7, 8, 9, 10]\n",
    "item12 = my_list[11]  # Raises an IndexError\n",
    "\n",
    "print(\"Item 12:\", item12)"
   ]
  },
  {
   "cell_type": "markdown",
   "id": "248a63d2",
   "metadata": {},
   "source": [
    "### 3 # "
   ]
  },
  {
   "cell_type": "code",
   "execution_count": 12,
   "id": "db861ecd",
   "metadata": {},
   "outputs": [
    {
     "ename": "ValueError",
     "evalue": "math domain error",
     "output_type": "error",
     "traceback": [
      "\u001b[1;31m---------------------------------------------------------------------------\u001b[0m",
      "\u001b[1;31mValueError\u001b[0m                                Traceback (most recent call last)",
      "Input \u001b[1;32mIn [12]\u001b[0m, in \u001b[0;36m<cell line: 3>\u001b[1;34m()\u001b[0m\n\u001b[0;32m      1\u001b[0m \u001b[38;5;66;03m# Using a value that is out of range for a function's input\u001b[39;00m\n\u001b[0;32m      2\u001b[0m \u001b[38;5;28;01mimport\u001b[39;00m \u001b[38;5;21;01mmath\u001b[39;00m\n\u001b[1;32m----> 3\u001b[0m sqrt_result \u001b[38;5;241m=\u001b[39m \u001b[43mmath\u001b[49m\u001b[38;5;241;43m.\u001b[39;49m\u001b[43msqrt\u001b[49m\u001b[43m(\u001b[49m\u001b[38;5;241;43m-\u001b[39;49m\u001b[38;5;241;43m1.0\u001b[39;49m\u001b[43m)\u001b[49m  \u001b[38;5;66;03m# Raises a ValueError\u001b[39;00m\n\u001b[0;32m      5\u001b[0m \u001b[38;5;28mprint\u001b[39m(\u001b[38;5;124m\"\u001b[39m\u001b[38;5;124mSquare Root Result:\u001b[39m\u001b[38;5;124m\"\u001b[39m, sqrt_result)\n",
      "\u001b[1;31mValueError\u001b[0m: math domain error"
     ]
    }
   ],
   "source": [
    "# Using a value that is out of range for a function's input\n",
    "import math\n",
    "sqrt_result = math.sqrt(-1.0)  # Raises a ValueError\n",
    "\n",
    "print(\"Square Root Result:\", sqrt_result)"
   ]
  },
  {
   "cell_type": "markdown",
   "id": "3d420718",
   "metadata": {},
   "source": [
    "### 4 # "
   ]
  },
  {
   "cell_type": "code",
   "execution_count": 14,
   "id": "bc8d2f04",
   "metadata": {},
   "outputs": [
    {
     "ename": "NameError",
     "evalue": "name 'X' is not defined",
     "output_type": "error",
     "traceback": [
      "\u001b[1;31m---------------------------------------------------------------------------\u001b[0m",
      "\u001b[1;31mNameError\u001b[0m                                 Traceback (most recent call last)",
      "Input \u001b[1;32mIn [14]\u001b[0m, in \u001b[0;36m<cell line: 2>\u001b[1;34m()\u001b[0m\n\u001b[0;32m      1\u001b[0m \u001b[38;5;66;03m# Using an undeclared variable\u001b[39;00m\n\u001b[1;32m----> 2\u001b[0m \u001b[38;5;28mprint\u001b[39m(\u001b[43mX\u001b[49m)\n",
      "\u001b[1;31mNameError\u001b[0m: name 'X' is not defined"
     ]
    }
   ],
   "source": [
    "# Using an undeclared variable\n",
    "print(X)"
   ]
  },
  {
   "cell_type": "markdown",
   "id": "c875ecde",
   "metadata": {},
   "source": [
    "### 5 #"
   ]
  },
  {
   "cell_type": "code",
   "execution_count": 15,
   "id": "bdafe3b8",
   "metadata": {},
   "outputs": [
    {
     "ename": "FileNotFoundError",
     "evalue": "[Errno 2] No such file or directory: 'file.txt'",
     "output_type": "error",
     "traceback": [
      "\u001b[1;31m---------------------------------------------------------------------------\u001b[0m",
      "\u001b[1;31mFileNotFoundError\u001b[0m                         Traceback (most recent call last)",
      "Input \u001b[1;32mIn [15]\u001b[0m, in \u001b[0;36m<cell line: 2>\u001b[1;34m()\u001b[0m\n\u001b[0;32m      1\u001b[0m \u001b[38;5;66;03m# Trying to open a file that does not exist\u001b[39;00m\n\u001b[1;32m----> 2\u001b[0m \u001b[38;5;28;01mwith\u001b[39;00m \u001b[38;5;28;43mopen\u001b[39;49m\u001b[43m(\u001b[49m\u001b[38;5;124;43m'\u001b[39;49m\u001b[38;5;124;43mfile.txt\u001b[39;49m\u001b[38;5;124;43m'\u001b[39;49m\u001b[43m,\u001b[49m\u001b[43m \u001b[49m\u001b[38;5;124;43m'\u001b[39;49m\u001b[38;5;124;43mr\u001b[39;49m\u001b[38;5;124;43m'\u001b[39;49m\u001b[43m)\u001b[49m \u001b[38;5;28;01mas\u001b[39;00m file:\n\u001b[0;32m      3\u001b[0m     content \u001b[38;5;241m=\u001b[39m file\u001b[38;5;241m.\u001b[39mread()\n",
      "\u001b[1;31mFileNotFoundError\u001b[0m: [Errno 2] No such file or directory: 'file.txt'"
     ]
    }
   ],
   "source": [
    "# Trying to open a file that does not exist\n",
    "with open('file.txt', 'r') as file:\n",
    "    content = file.read()"
   ]
  },
  {
   "cell_type": "markdown",
   "id": "1996f5de",
   "metadata": {},
   "source": [
    "### Ans 10 # "
   ]
  },
  {
   "cell_type": "code",
   "execution_count": 16,
   "id": "68729d30",
   "metadata": {},
   "outputs": [
    {
     "name": "stdout",
     "output_type": "stream",
     "text": [
      "[1, 1, 1, 3, 5, 1, 1, 2, 1, 0, 1, 0, 1, 2, 4, 0, 1, 2, 0, 2, 1, 0, 1, 1, 0, 0]\n",
      "[1, 0, 0, 0, 1, 0, 0, 0, 0, 0, 0, 1, 0, 0, 0, 2, 0, 0, 0, 0, 0, 0, 0, 0, 0, 0]\n"
     ]
    }
   ],
   "source": [
    "def frequencies(sentence): #Defining function\n",
    "    str_random = \"abcdefghijklmnopqrstuvwqyz\" #Taking random letters\n",
    "    c = [] #Initializing empty list\n",
    "    for letter in str_random:\n",
    "        count = sentence.count(letter) #Counting letter frequencies\n",
    "        c.append(count)\n",
    "    print(c)  \n",
    "\n",
    "frequencies(\"The quick red fox got bored and went home.\")\n",
    "frequencies(\"apple\")"
   ]
  },
  {
   "cell_type": "code",
   "execution_count": null,
   "id": "5cbafbc9",
   "metadata": {},
   "outputs": [],
   "source": []
  }
 ],
 "metadata": {
  "kernelspec": {
   "display_name": "Python 3 (ipykernel)",
   "language": "python",
   "name": "python3"
  },
  "language_info": {
   "codemirror_mode": {
    "name": "ipython",
    "version": 3
   },
   "file_extension": ".py",
   "mimetype": "text/x-python",
   "name": "python",
   "nbconvert_exporter": "python",
   "pygments_lexer": "ipython3",
   "version": "3.9.12"
  }
 },
 "nbformat": 4,
 "nbformat_minor": 5
}
